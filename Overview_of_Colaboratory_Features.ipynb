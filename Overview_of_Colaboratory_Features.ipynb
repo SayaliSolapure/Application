{
  "cells": [
    {
      "cell_type": "markdown",
      "metadata": {
        "id": "view-in-github",
        "colab_type": "text"
      },
      "source": [
        "<a href=\"https://colab.research.google.com/github/SayaliSolapure/Application/blob/main/Overview_of_Colaboratory_Features.ipynb\" target=\"_parent\"><img src=\"https://colab.research.google.com/assets/colab-badge.svg\" alt=\"Open In Colab\"/></a>"
      ]
    },
    {
      "cell_type": "code",
      "source": [
        "from sklearn import tree\n",
        "\n",
        "Features = [[35,1],[47,1],[90,0],[48,1],[90,0],[35,1],[92,0],[35,1],[35,1],[35,1],[96,0],[43,1],[110,0],[35,1],[95,0]]\n",
        "Labels = [1,1,2,1,2,1,2,1,1,1,2,1,2,1,2]\n",
        "\n",
        "obj = tree.DecisionTreeClassifier()\n",
        "\n",
        "obj = obj.fit(Features, Labels)\n",
        "\n",
        "print(obj.predict([[97,0],[35,1]]))"
      ],
      "metadata": {
        "colab": {
          "base_uri": "https://localhost:8080/"
        },
        "id": "ffyMGe_d1JpH",
        "outputId": "13975888-7324-47b6-d69c-38c41200b139"
      },
      "execution_count": 1,
      "outputs": [
        {
          "output_type": "stream",
          "name": "stdout",
          "text": [
            "[2 1]\n"
          ]
        }
      ]
    },
    {
      "cell_type": "code",
      "source": [
        "from sklearn import tree\n",
        "\n",
        "def BallPredictor():\n",
        "    Features = [[35,1],[47,1],[90,0],[48,1],[90,0],[35,1],[92,0],[35,1],[35,1],[35,1],[96,0],[43,1],[110,0],[35,1],[95,0]]\n",
        "    Labels = [1,1,2,1,2,1,2,1,1,1,2,1,2,1,2]\n",
        "\n",
        "    obj = tree.DecisionTreeClassifier()\n",
        "\n",
        "    obj = obj.fit(Features, Labels)\n",
        "\n",
        "    print(obj.predict([[97,0],[35,1]]))\n",
        "\n",
        "def main():\n",
        "    print(\"---------- Ball Predictor Case study----------\")\n",
        "\n",
        "    BallPredictor()\n",
        "\n",
        "if __name__ == \"__main__\":\n",
        "    main()"
      ],
      "metadata": {
        "colab": {
          "base_uri": "https://localhost:8080/"
        },
        "id": "oB-myaId2EQg",
        "outputId": "8da47c8c-8963-499b-b9d5-4a987fe9061f"
      },
      "execution_count": 2,
      "outputs": [
        {
          "output_type": "stream",
          "name": "stdout",
          "text": [
            "---------- Ball Predictor Case study----------\n",
            "[2 1]\n"
          ]
        }
      ]
    },
    {
      "cell_type": "code",
      "source": [
        "from sklearn import tree\n",
        "\n",
        "def BallPredictor(weight, surface):\n",
        "    Features = [[35,1],[47,1],[90,0],[48,1],[90,0],[35,1],[92,0],[35,1],[35,1],[35,1],[96,0],[43,1],[110,0],[35,1],[95,0]]\n",
        "    Labels = [1,1,2,1,2,1,2,1,1,1,2,1,2,1,2]\n",
        "\n",
        "    obj = tree.DecisionTreeClassifier()\n",
        "\n",
        "    obj = obj.fit(Features, Labels)\n",
        "\n",
        "    ret = obj.predict([[weight,surface]])\n",
        "\n",
        "    if ret == 1:\n",
        "        print(\"Your object looks like a Tennis ball\")\n",
        "    else:\n",
        "        print(\"Your object looks like a Cricket ball\")\n",
        "\n",
        "def main():\n",
        "    print(\"---------- Ball Predictor Case Study ----------\")\n",
        "\n",
        "    print(\"Please enter the weight of your object in grams\")\n",
        "    weight = int(input())\n",
        "\n",
        "    print(\"Please enter the type of surface of your object (Rough / Smooth)\")\n",
        "    surface = input()\n",
        "\n",
        "    if surface.lower() == \"rough\":\n",
        "        surface = 1\n",
        "    elif surface.lower() == \"smooth\":\n",
        "        surface = 0\n",
        "    else:\n",
        "        print(\"Invalid type of surface\")\n",
        "        exit()\n",
        "\n",
        "    BallPredictor(weight, surface)\n",
        "\n",
        "if __name__ == \"__main__\":\n",
        "    main()"
      ],
      "metadata": {
        "colab": {
          "base_uri": "https://localhost:8080/"
        },
        "id": "vrTrPovi3QNZ",
        "outputId": "f08bb8a3-c4f2-4aa9-93cf-f39c553a7b29"
      },
      "execution_count": 2,
      "outputs": [
        {
          "output_type": "stream",
          "name": "stdout",
          "text": [
            "---------- Ball Predictor Case Study ----------\n",
            "Please enter the weight of your object in grams\n",
            "90\n",
            "Please enter the type of surface of your object (Rough / Smooth)\n",
            "smooth\n",
            "Your object looks like a Cricket ball\n"
          ]
        }
      ]
    },
    {
      "cell_type": "code",
      "source": [
        "import pandas as pd\n",
        "import numpy as np\n",
        "import matplotlib.pyplot as plt\n",
        "from sklearn.model_selection import train_test_split\n",
        "from sklearn.tree import DecisionTreeClassifier\n",
        "\n",
        "print(\"_____Marvellous Infosystems_____\")\n",
        "\n",
        "print(\"_____Diabetes predictor using Decision Tree_____\")\n",
        "\n",
        "diabetes = pd.read_csv('Diabetes.csv')\n",
        "\n",
        "print(\"Columns of Dataset\")\n",
        "print(diabetes.columns)\n",
        "\n",
        "print(\"First 5 records of dataset\")\n",
        "print(diabetes.head())\n",
        "\n",
        "print(\"Dimension of diabetes data : {}\". format(diabetes.shape))\n",
        "\n",
        "X_train, X_test, y_train, y_test = train_test_split(diabetes.loc[:,diabetes.columns != 'Outcome'], diabetes['Outcome'], stratify = diabetes['Outcome'], random_state = 66)\n",
        "\n",
        "tree = DecisionTreeClassifier(random_state = 0)\n",
        "tree.fit(X_train, y_train)\n",
        "\n",
        "print(\"Accuracy on training set : {:.3f}\". format(tree.score (X_train, y_train)))\n",
        "print(\"Accuracy on test set : {:.3f}\". format(tree.score (X_test, y_test)))\n",
        "print(\"Feature importances : \\n{}\".format(tree.feature_importances_))\n",
        "\n",
        "def plot_feature_importances_diabetes(model):\n",
        "    plt.figure(figsize = (8,6))\n",
        "    n_features = 8\n",
        "    plt.barh(range(n_features), model.feature_importances_, align = 'center')\n",
        "    diabetes_features = [x for i, x in enumerate(diabetes.columns) if i!= 8]\n",
        "    plt.yticks(np.arrange(n_features), diabetes_features)\n",
        "    plt.xlabel(\"Feature importance\")\n",
        "    plt.ylabel(\"Feature\")\n",
        "    plt.ylim(-1, n_features)\n",
        "    plt.show()"
      ],
      "metadata": {
        "colab": {
          "base_uri": "https://localhost:8080/"
        },
        "id": "InWWbmxe58i2",
        "outputId": "06c189f2-f39b-4f68-f4ea-2d07b4ca51d3"
      },
      "execution_count": 7,
      "outputs": [
        {
          "output_type": "stream",
          "name": "stdout",
          "text": [
            "_____Marvellous Infosystems_____\n",
            "_____Diabetes predictor using Decision Tree_____\n",
            "Columns of Dataset\n",
            "Index(['Pregnancies', 'Glucose', 'Bloodpressure', 'SkinThickness', 'Insulin',\n",
            "       'BMI', 'DiabetesPedigreeFuncion', 'Age', 'Outcome'],\n",
            "      dtype='object')\n",
            "First 5 records of dataset\n",
            "   Pregnancies  Glucose  Bloodpressure  SkinThickness  Insulin   BMI  \\\n",
            "0            6      148             72             35        0  33.6   \n",
            "1            1       85             66             29        0  26.6   \n",
            "2            8      183             64              0        0  23.3   \n",
            "3            1       89             66             23       94  28.1   \n",
            "4            0      137             40             35      168  43.1   \n",
            "\n",
            "   DiabetesPedigreeFuncion  Age  Outcome  \n",
            "0                    0.627   50        1  \n",
            "1                    0.351   31        0  \n",
            "2                    0.672   32        1  \n",
            "3                    0.167   21        0  \n",
            "4                    2.288   33        1  \n",
            "Dimension of diabetes data : (10, 9)\n",
            "Accuracy on training set : 1.000\n",
            "Accuracy on test set : 0.667\n",
            "Feature importances : \n",
            "[0. 1. 0. 0. 0. 0. 0. 0.]\n"
          ]
        }
      ]
    },
    {
      "cell_type": "code",
      "source": [
        "from sklearn import datasets\n",
        "from sklearn.model_selection import train_test_split\n",
        "from sklearn import svm\n",
        "from sklearn import metrics\n",
        "\n",
        "def MarvellousSVM():\n",
        "    cancer = datasets.load_breast_cancer()\n",
        "\n",
        "    print(\"Features of the cancer dataset : \", cancer.feature_names)\n",
        "\n",
        "    print(\"Labels of the cancer dataset : \", cancer.target_names)\n",
        "\n",
        "    print(\"Shape of dataset is : \", cancer.data.shape)\n",
        "\n",
        "    print(\"First 5 records are : \")\n",
        "    print(cancer.data[0:5])\n",
        "\n",
        "    print(\"Target of dataset : \", cancer.target)\n",
        "\n",
        "    X_train, X_test, y_train, y_test = train_test_split(cancer.data, cancer.target, test_size = 0.3, random_state = 109)\n",
        "\n",
        "    clf = svm.SVC(kernel = 'linear')\n",
        "\n",
        "    clf.fit(X_train, y_train)\n",
        "\n",
        "    y_pred = clf.predict(X_test)\n",
        "\n",
        "    print(\"Accuracy of the model is : \", metrics.accuracy_score(y_test,y_pred) * 100)\n",
        "\n",
        "def main():\n",
        "    print(\"_____Marvellous Support Vector Machine_____\")\n",
        "\n",
        "    MarvellousSVM()\n",
        "\n",
        "if __name__ == \"__main__\":\n",
        "    main()"
      ],
      "metadata": {
        "colab": {
          "base_uri": "https://localhost:8080/"
        },
        "id": "y9ZBaZdX3gZp",
        "outputId": "00c82d26-9504-4953-947c-9992690ca4f9"
      },
      "execution_count": 3,
      "outputs": [
        {
          "output_type": "stream",
          "name": "stdout",
          "text": [
            "_____Marvellous Support Vector Machine_____\n",
            "Features of the cancer dataset :  ['mean radius' 'mean texture' 'mean perimeter' 'mean area'\n",
            " 'mean smoothness' 'mean compactness' 'mean concavity'\n",
            " 'mean concave points' 'mean symmetry' 'mean fractal dimension'\n",
            " 'radius error' 'texture error' 'perimeter error' 'area error'\n",
            " 'smoothness error' 'compactness error' 'concavity error'\n",
            " 'concave points error' 'symmetry error' 'fractal dimension error'\n",
            " 'worst radius' 'worst texture' 'worst perimeter' 'worst area'\n",
            " 'worst smoothness' 'worst compactness' 'worst concavity'\n",
            " 'worst concave points' 'worst symmetry' 'worst fractal dimension']\n",
            "Labels of the cancer dataset :  ['malignant' 'benign']\n",
            "Shape of dataset is :  (569, 30)\n",
            "First 5 records are : \n",
            "[[1.799e+01 1.038e+01 1.228e+02 1.001e+03 1.184e-01 2.776e-01 3.001e-01\n",
            "  1.471e-01 2.419e-01 7.871e-02 1.095e+00 9.053e-01 8.589e+00 1.534e+02\n",
            "  6.399e-03 4.904e-02 5.373e-02 1.587e-02 3.003e-02 6.193e-03 2.538e+01\n",
            "  1.733e+01 1.846e+02 2.019e+03 1.622e-01 6.656e-01 7.119e-01 2.654e-01\n",
            "  4.601e-01 1.189e-01]\n",
            " [2.057e+01 1.777e+01 1.329e+02 1.326e+03 8.474e-02 7.864e-02 8.690e-02\n",
            "  7.017e-02 1.812e-01 5.667e-02 5.435e-01 7.339e-01 3.398e+00 7.408e+01\n",
            "  5.225e-03 1.308e-02 1.860e-02 1.340e-02 1.389e-02 3.532e-03 2.499e+01\n",
            "  2.341e+01 1.588e+02 1.956e+03 1.238e-01 1.866e-01 2.416e-01 1.860e-01\n",
            "  2.750e-01 8.902e-02]\n",
            " [1.969e+01 2.125e+01 1.300e+02 1.203e+03 1.096e-01 1.599e-01 1.974e-01\n",
            "  1.279e-01 2.069e-01 5.999e-02 7.456e-01 7.869e-01 4.585e+00 9.403e+01\n",
            "  6.150e-03 4.006e-02 3.832e-02 2.058e-02 2.250e-02 4.571e-03 2.357e+01\n",
            "  2.553e+01 1.525e+02 1.709e+03 1.444e-01 4.245e-01 4.504e-01 2.430e-01\n",
            "  3.613e-01 8.758e-02]\n",
            " [1.142e+01 2.038e+01 7.758e+01 3.861e+02 1.425e-01 2.839e-01 2.414e-01\n",
            "  1.052e-01 2.597e-01 9.744e-02 4.956e-01 1.156e+00 3.445e+00 2.723e+01\n",
            "  9.110e-03 7.458e-02 5.661e-02 1.867e-02 5.963e-02 9.208e-03 1.491e+01\n",
            "  2.650e+01 9.887e+01 5.677e+02 2.098e-01 8.663e-01 6.869e-01 2.575e-01\n",
            "  6.638e-01 1.730e-01]\n",
            " [2.029e+01 1.434e+01 1.351e+02 1.297e+03 1.003e-01 1.328e-01 1.980e-01\n",
            "  1.043e-01 1.809e-01 5.883e-02 7.572e-01 7.813e-01 5.438e+00 9.444e+01\n",
            "  1.149e-02 2.461e-02 5.688e-02 1.885e-02 1.756e-02 5.115e-03 2.254e+01\n",
            "  1.667e+01 1.522e+02 1.575e+03 1.374e-01 2.050e-01 4.000e-01 1.625e-01\n",
            "  2.364e-01 7.678e-02]]\n",
            "Target of dataset :  [0 0 0 0 0 0 0 0 0 0 0 0 0 0 0 0 0 0 0 1 1 1 0 0 0 0 0 0 0 0 0 0 0 0 0 0 0\n",
            " 1 0 0 0 0 0 0 0 0 1 0 1 1 1 1 1 0 0 1 0 0 1 1 1 1 0 1 0 0 1 1 1 1 0 1 0 0\n",
            " 1 0 1 0 0 1 1 1 0 0 1 0 0 0 1 1 1 0 1 1 0 0 1 1 1 0 0 1 1 1 1 0 1 1 0 1 1\n",
            " 1 1 1 1 1 1 0 0 0 1 0 0 1 1 1 0 0 1 0 1 0 0 1 0 0 1 1 0 1 1 0 1 1 1 1 0 1\n",
            " 1 1 1 1 1 1 1 1 0 1 1 1 1 0 0 1 0 1 1 0 0 1 1 0 0 1 1 1 1 0 1 1 0 0 0 1 0\n",
            " 1 0 1 1 1 0 1 1 0 0 1 0 0 0 0 1 0 0 0 1 0 1 0 1 1 0 1 0 0 0 0 1 1 0 0 1 1\n",
            " 1 0 1 1 1 1 1 0 0 1 1 0 1 1 0 0 1 0 1 1 1 1 0 1 1 1 1 1 0 1 0 0 0 0 0 0 0\n",
            " 0 0 0 0 0 0 0 1 1 1 1 1 1 0 1 0 1 1 0 1 1 0 1 0 0 1 1 1 1 1 1 1 1 1 1 1 1\n",
            " 1 0 1 1 0 1 0 1 1 1 1 1 1 1 1 1 1 1 1 1 1 0 1 1 1 0 1 0 1 1 1 1 0 0 0 1 1\n",
            " 1 1 0 1 0 1 0 1 1 1 0 1 1 1 1 1 1 1 0 0 0 1 1 1 1 1 1 1 1 1 1 1 0 0 1 0 0\n",
            " 0 1 0 0 1 1 1 1 1 0 1 1 1 1 1 0 1 1 1 0 1 1 0 0 1 1 1 1 1 1 0 1 1 1 1 1 1\n",
            " 1 0 1 1 1 1 1 0 1 1 0 1 1 1 1 1 1 1 1 1 1 1 1 0 1 0 0 1 0 1 1 1 1 1 0 1 1\n",
            " 0 1 0 1 1 0 1 0 1 1 1 1 1 1 1 1 0 0 1 1 1 1 1 1 0 1 1 1 1 1 1 1 1 1 1 0 1\n",
            " 1 1 1 1 1 1 0 1 0 1 1 0 1 1 1 1 1 0 0 1 0 1 0 1 1 1 1 1 0 1 1 0 1 0 1 0 0\n",
            " 1 1 1 0 1 1 1 1 1 1 1 1 1 1 1 0 1 0 0 1 1 1 1 1 1 1 1 1 1 1 1 1 1 1 1 1 1\n",
            " 1 1 1 1 1 1 1 0 0 0 0 0 0 1]\n",
            "Accuracy of the model is :  96.49122807017544\n"
          ]
        }
      ]
    },
    {
      "cell_type": "code",
      "source": [
        "import pandas as pd\n",
        "import numpy as np\n",
        "import matplotlib.pyplot as plt\n",
        "from sklearn.model_selection import train_test_split\n",
        "from sklearn.linear_model import LogisticRegression\n",
        "from warnings import simplefilter\n",
        "\n",
        "simplefilter(action = 'ignore', category = FutureWarning)\n",
        "\n",
        "print(\"_____Marvellous Infosystems_____\")\n",
        "\n",
        "print(\"_____Diabetes predictor using Logistic Regression_____\")\n",
        "\n",
        "diabetes = pd.read_csv('Diabetes.csv')\n",
        "\n",
        "print(\"Columns of Dataset\")\n",
        "print(diabetes.columns)\n",
        "\n",
        "print(\"First 5 records of dataset\")\n",
        "print(diabetes.head())\n",
        "\n",
        "print(\"Dimension of diabetes data : {}\". format(diabetes.shape))\n",
        "\n",
        "X_train, X_test, y_train, y_test = train_test_split(diabetes.loc[:,diabetes.columns != 'Outcome'], diabetes['Outcome'], stratify = diabetes['Outcome'], random_state = 66)\n",
        "\n",
        "logreg = LogisticRegression().fit(X_train, y_train)\n",
        "\n",
        "print(\"Training set accuracy : {:.3f}\". format(logreg.score(X_train, y_train)))\n",
        "\n",
        "print(\"Test set accuracy : {:.3f}\". format(logreg.score(X_test, y_test)))\n",
        "\n",
        "logreg001 = LogisticRegression(C = 0.01).fit(X_train, y_train)\n",
        "\n",
        "print(\"Training set accuracy : {:.3f}\". format(logreg001.score(X_train, y_train)))\n",
        "\n",
        "print(\"Test set accuracy : {:.3f}\".format(logreg001.score(X_test, y_test)))"
      ],
      "metadata": {
        "colab": {
          "base_uri": "https://localhost:8080/"
        },
        "id": "MpI0mvHQ6qNJ",
        "outputId": "88c51a7a-9ada-45a7-9b35-60cce5c5001d"
      },
      "execution_count": 9,
      "outputs": [
        {
          "output_type": "stream",
          "name": "stdout",
          "text": [
            "_____Marvellous Infosystems_____\n",
            "_____Diabetes predictor using Logistic Regression_____\n",
            "Columns of Dataset\n",
            "Index(['Pregnancies', 'Glucose', 'Bloodpressure', 'SkinThickness', 'Insulin',\n",
            "       'BMI', 'DiabetesPedigreeFuncion', 'Age', 'Outcome'],\n",
            "      dtype='object')\n",
            "First 5 records of dataset\n",
            "   Pregnancies  Glucose  Bloodpressure  SkinThickness  Insulin   BMI  \\\n",
            "0            6      148             72             35        0  33.6   \n",
            "1            1       85             66             29        0  26.6   \n",
            "2            8      183             64              0        0  23.3   \n",
            "3            1       89             66             23       94  28.1   \n",
            "4            0      137             40             35      168  43.1   \n",
            "\n",
            "   DiabetesPedigreeFuncion  Age  Outcome  \n",
            "0                    0.627   50        1  \n",
            "1                    0.351   31        0  \n",
            "2                    0.672   32        1  \n",
            "3                    0.167   21        0  \n",
            "4                    2.288   33        1  \n",
            "Dimension of diabetes data : (10, 9)\n",
            "Training set accuracy : 1.000\n",
            "Test set accuracy : 0.333\n",
            "Training set accuracy : 1.000\n",
            "Test set accuracy : 0.333\n"
          ]
        }
      ]
    },
    {
      "cell_type": "code",
      "source": [
        "import pandas as pd\n",
        "import numpy as np\n",
        "import matplotlib.pyplot as plt\n",
        "from sklearn.model_selection import train_test_split\n",
        "from sklearn.ensemble import RandomForestClassifier\n",
        "from warnings import simplefilter\n",
        "\n",
        "simplefilter(action = 'ignore', category = FutureWarning)\n",
        "\n",
        "print(\"_____Marvellous Infosystems_____\")\n",
        "\n",
        "print(\"_____Diabetes predictor using Random Forest_____\")\n",
        "\n",
        "diabetes = pd.read_csv('Diabetes.csv')\n",
        "\n",
        "print(\"Columns of Dataset\")\n",
        "print(diabetes.columns)\n",
        "\n",
        "print(\"First 5 records of dataset\")\n",
        "print(diabetes.head())\n",
        "\n",
        "print(\"Dimension of diabetes data : {}\". format(diabetes.shape))\n",
        "\n",
        "X_train, X_test, y_train, y_test = train_test_split(diabetes.loc[:,diabetes.columns != 'Outcome'], diabetes['Outcome'], stratify = diabetes['Outcome'], random_state = 66)\n",
        "\n",
        "rf = RandomForestClassifier(n_estimators = 100, random_state = 0)\n",
        "rf.fit(X_train, y_train)\n",
        "\n",
        "print(\"Accuracy on training set : {:.3f}\".format(rf.score(X_train, y_train)))\n",
        "\n",
        "print(\"Accuracy on test set : {:.3f}\".format(rf.score(X_test, y_test)))\n",
        "\n",
        "rf1 = RandomForestClassifier(max_depth = 3, n_estimators = 100, random_state = 0)\n",
        "\n",
        "rf1.fit(X_train, y_train)\n",
        "\n",
        "print(\"Accuracy on training set : {:.3f}\".format(rf1.score(X_train, y_train)))\n",
        "\n",
        "print(\"Accuracy on test set : {:.3f}\".format(rf1.score(X_test, y_test)))\n",
        "\n",
        "def plot_feature_importances_diabetes(model):\n",
        "    plt.figure(figsize = (8,6))\n",
        "    n_features = 8\n",
        "\n",
        "    plt.barh(range(n_features),model.feature_importances_, align = 'center')\n",
        "    diabetes_features = [x for i, x in enumerate(diabetes.columns)if i!= 8]\n",
        "\n",
        "    plt.yticks(np.arrange(n_features), diabetes_features)\n",
        "    plt.xlabel(\"Feature importance\")\n",
        "    plt.ylabel(\"Feature\")\n",
        "    plt.ylim(-1, n_features)\n",
        "    plt.show()"
      ],
      "metadata": {
        "colab": {
          "base_uri": "https://localhost:8080/"
        },
        "id": "JnMEmqau7FSL",
        "outputId": "50f6a5c6-6898-48f1-8cc0-0e1d8a584cd0"
      },
      "execution_count": 11,
      "outputs": [
        {
          "output_type": "stream",
          "name": "stdout",
          "text": [
            "_____Marvellous Infosystems_____\n",
            "_____Diabetes predictor using Random Forest_____\n",
            "Columns of Dataset\n",
            "Index(['Pregnancies', 'Glucose', 'Bloodpressure', 'SkinThickness', 'Insulin',\n",
            "       'BMI', 'DiabetesPedigreeFuncion', 'Age', 'Outcome'],\n",
            "      dtype='object')\n",
            "First 5 records of dataset\n",
            "   Pregnancies  Glucose  Bloodpressure  SkinThickness  Insulin   BMI  \\\n",
            "0            6      148             72             35        0  33.6   \n",
            "1            1       85             66             29        0  26.6   \n",
            "2            8      183             64              0        0  23.3   \n",
            "3            1       89             66             23       94  28.1   \n",
            "4            0      137             40             35      168  43.1   \n",
            "\n",
            "   DiabetesPedigreeFuncion  Age  Outcome  \n",
            "0                    0.627   50        1  \n",
            "1                    0.351   31        0  \n",
            "2                    0.672   32        1  \n",
            "3                    0.167   21        0  \n",
            "4                    2.288   33        1  \n",
            "Dimension of diabetes data : (10, 9)\n",
            "Accuracy on training set : 1.000\n",
            "Accuracy on test set : 0.667\n",
            "Accuracy on training set : 1.000\n",
            "Accuracy on test set : 0.667\n"
          ]
        }
      ]
    },
    {
      "cell_type": "code",
      "source": [
        "from sklearn.ensemble import RandomForestClassifier\n",
        "from sklearn.linear_model import LogisticRegression\n",
        "from sklearn.neighbors import KNeighborsClassifier\n",
        "from sklearn.ensemble import VotingClassifier\n",
        "from sklearn.datasets import load_iris\n",
        "from sklearn.model_selection import train_test_split\n",
        "from sklearn.metrics import accuracy_score\n",
        "\n",
        "iris = load_iris()\n",
        "x = iris['data']\n",
        "y = iris['target']\n",
        "\n",
        "x_train, x_test, y_train, y_test = train_test_split(x,y,random_state = 42, train_size = 0.85)\n",
        "\n",
        "log_clf = LogisticRegression()\n",
        "rnd_clf = RandomForestClassifier()\n",
        "knn_clf = KNeighborsClassifier()\n",
        "\n",
        "vot_clf = VotingClassifier(estimators = [('lr',log_clf),('rnd',rnd_clf),('knn',knn_clf)], voting = 'hard')\n",
        "\n",
        "vot_clf.fit(x_train, y_train)\n",
        "\n",
        "pred = vot_clf.predict(x_test)\n",
        "\n",
        "print(\"Testing accuracy is : \", accuracy_score(y_test, pred) * 100)"
      ],
      "metadata": {
        "colab": {
          "base_uri": "https://localhost:8080/"
        },
        "id": "z0qQ0ucI7fqq",
        "outputId": "d2353ebe-99f1-4bd7-8c9c-d875621b3a7d"
      },
      "execution_count": 12,
      "outputs": [
        {
          "output_type": "stream",
          "name": "stdout",
          "text": [
            "Testing accuracy is :  100.0\n"
          ]
        }
      ]
    },
    {
      "cell_type": "code",
      "source": [
        "from sklearn.ensemble import AdaBoostClassifier\n",
        "from sklearn import datasets\n",
        "from sklearn.model_selection import train_test_split\n",
        "from sklearn import metrics\n",
        "\n",
        "iris = datasets.load_iris()\n",
        "x = iris.data\n",
        "y = iris.target\n",
        "\n",
        "X_train, X_test, y_train, y_test = train_test_split(x, y, test_size = 0.3)\n",
        "\n",
        "abc = AdaBoostClassifier(n_estimators = 50, learning_rate = 1)\n",
        "model = abc.fit(X_train, y_train)\n",
        "\n",
        "y_pred = model.predict(X_test)\n",
        "\n",
        "print(\"Accuracy : \", metrics.accuracy_score(y_test, y_pred))"
      ],
      "metadata": {
        "colab": {
          "base_uri": "https://localhost:8080/"
        },
        "id": "QCisTYu97mml",
        "outputId": "84a4a0f9-61c8-42e3-fc6c-cb3dd10f8f82"
      },
      "execution_count": 13,
      "outputs": [
        {
          "output_type": "stream",
          "name": "stdout",
          "text": [
            "Accuracy :  0.9333333333333333\n"
          ]
        }
      ]
    },
    {
      "cell_type": "code",
      "source": [
        "import pandas as pd\n",
        "from sklearn.linear_model import LinearRegression\n",
        "from sklearn.metrics import mean_squared_error\n",
        "\n",
        "def HeadBrainPredictor():\n",
        "\n",
        "    data = pd.read_csv('HeadBrain.csv')\n",
        "\n",
        "    print(\"Size if data set : \", data.shape)\n",
        "\n",
        "    X = data['Head Size(cm^3)'].values\n",
        "    Y = data['Brain Weight(grams)'].values\n",
        "\n",
        "    X = X.reshape((-1,1))\n",
        "\n",
        "    n = len(X)\n",
        "\n",
        "    reg = LinearRegression()\n",
        "\n",
        "    reg = reg.fit(X,Y)\n",
        "\n",
        "    y_pred = reg.predict(X)\n",
        "\n",
        "    r2 = reg.score(X,Y)\n",
        "\n",
        "    print(r2)\n",
        "\n",
        "def main():\n",
        "    print(\"_____Marvellous Infosystems_____\")\n",
        "\n",
        "    print(\"Supervised Machine Learning\")\n",
        "\n",
        "    print(\"Linear Regression on Head & Brain size data set\")\n",
        "\n",
        "    HeadBrainPredictor()\n",
        "\n",
        "if __name__ == \"__main__\":\n",
        "    main()"
      ],
      "metadata": {
        "colab": {
          "base_uri": "https://localhost:8080/"
        },
        "id": "nucNIr1_7ucf",
        "outputId": "0565f572-6998-411e-d858-08fd6a933745"
      },
      "execution_count": 14,
      "outputs": [
        {
          "output_type": "stream",
          "name": "stdout",
          "text": [
            "_____Marvellous Infosystems_____\n",
            "Supervised Machine Learning\n",
            "Linear Regression on Head & Brain size data set\n",
            "Size if data set :  (237, 4)\n",
            "0.639311719957\n"
          ]
        }
      ]
    },
    {
      "cell_type": "code",
      "source": [
        "from sklearn.datasets import load_iris\n",
        "from sklearn.neighbors import KNeighborsClassifier\n",
        "from sklearn.metrics import accuracy_score\n",
        "from sklearn.model_selection import train_test_split\n",
        "\n",
        "def MarvellousKNeighborsClassifier():\n",
        "    Dataset = load_iris()\n",
        "\n",
        "    Data = Dataset.data\n",
        "    Target = Dataset.target\n",
        "\n",
        "    Data_train, Data_test, Target_train, Target_test = train_test_split(Data, Target, test_size = 0.5)\n",
        "\n",
        "    Classifier = KNeighborsClassifier()\n",
        "\n",
        "    Classifier.fit(Data_train, Target_train)\n",
        "\n",
        "    Predictions = Classifier.predict(Data_test)\n",
        "\n",
        "    Accuracy = accuracy_score(Target_test, Predictions)\n",
        "\n",
        "    return Accuracy\n",
        "\n",
        "def main():\n",
        "    Ret = MarvellousKNeighborsClassifier()\n",
        "\n",
        "    print(\"Accuracy of Iris dataset with KNN is : \", Ret * 100)\n",
        "\n",
        "if __name__ == \"__main__\":\n",
        "    main()"
      ],
      "metadata": {
        "id": "GLttlgkD-ID4"
      },
      "execution_count": null,
      "outputs": []
    }
  ],
  "metadata": {
    "colab": {
      "name": "Overview of Colaboratory Features",
      "provenance": [],
      "include_colab_link": true
    },
    "kernelspec": {
      "display_name": "Python 3",
      "name": "python3"
    }
  },
  "nbformat": 4,
  "nbformat_minor": 0
}